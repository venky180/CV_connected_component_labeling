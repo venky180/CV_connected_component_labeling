{
 "cells": [
  {
   "cell_type": "code",
   "execution_count": 198,
   "id": "fa720825-81ca-4faa-972b-ae51b5c07f1f",
   "metadata": {},
   "outputs": [],
   "source": [
    "from PIL import Image\n",
    "import numpy as np\n",
    "files = [\"face.bmp\",\"gun.bmp\",\"test.bmp\"]"
   ]
  },
  {
   "cell_type": "code",
   "execution_count": 207,
   "id": "449fed47-dfb4-4017-8ee3-fee5f7508fbd",
   "metadata": {},
   "outputs": [],
   "source": [
    "# loop through each file in the files list\n",
    "for file in files:\n",
    "    # open the image file\n",
    "    im = Image.open(file)\n",
    "    # convert the image to a numpy array\n",
    "    p = np.array(im)\n",
    "    # create a new numpy array with the same shape as p and data type int\n",
    "    a=np.zeros_like(p,dtype=int)\n",
    "    # initialize variables\n",
    "    L=0\n",
    "    sets = []\n",
    "    xy=0\n",
    "    up = 0\n",
    "    left = 0\n",
    "    # loop through each row and column in p\n",
    "    for i,x in enumerate(p):\n",
    "        for j,y in enumerate(x):\n",
    "            # if the pixel is True (i.e. white)\n",
    "            if y == True:\n",
    "                # determine the value of the pixel based on its neighbors\n",
    "                if j != 0 and i==0:\n",
    "                    up = 0\n",
    "                    left = a[i,j-1]\n",
    "                elif j == 0 and i!=0:\n",
    "                    up = a[i-1,j]\n",
    "                    left = 0\n",
    "                elif j != 0 and i!=0:\n",
    "                    up = a[i-1,j]\n",
    "                    left = a[i,j-1]\n",
    "\n",
    "                # if the pixel has the same value as its neighbors, set its value to the neighbor value\n",
    "                if up == left and left !=0 and up !=0:\n",
    "                    a[i,j] = up\n",
    "                    xy=xy+1\n",
    "                # if the pixel has a different value than its neighbors and only one of its neighbors is non-zero, set its value to the non-zero neighbor value\n",
    "                elif left != up and (left*up == 0):\n",
    "                    a[i,j] = max(left,up)\n",
    "                # if the pixel has a different value than its neighbors and both of its neighbors are non-zero, set its value to the minimum neighbor value and merge the neighbor sets\n",
    "                elif left != up and (left*up != 0):\n",
    "                    a[i,j] = min(left,up)\n",
    "                    newset = {left,up}\n",
    "                    # check if the new set intersects with any existing sets and merge them if necessary\n",
    "                    if len(sets) == 0:\n",
    "                        sets.append(newset)\n",
    "                    else:\n",
    "                        for it,xx in enumerate(sets):\n",
    "                            if newset & xx:\n",
    "                                sets[it] = xx | newset\n",
    "                                break\n",
    "                            if it == len(sets)-1:\n",
    "                                sets.append(newset)\n",
    "                # if the pixel has no non-zero neighbors, assign it a new label value\n",
    "                else:\n",
    "                    L = L+1\n",
    "                    a[i,j] = L\n",
    "    # merge the last two sets if they intersect\n",
    "    if sets[len(sets)-1] & sets[len(sets)-2] :\n",
    "        sets[len(sets)-2] = sets[len(sets)-1] | sets[len(sets)-2]\n",
    "    del sets[len(sets)-1]\n",
    "    # assign label values to the pixels based on their set membership\n",
    "    for i,x in enumerate(a):\n",
    "        for j,y in enumerate(x):\n",
    "            if y !=0:\n",
    "                for it,xx in enumerate(sets):\n",
    "                    if y in xx:\n",
    "                        a[i,j]= (it+1) * int(200/len(sets))\n",
    "                        break\n",
    "    # convert the numpy array back to an image and save it\n",
    "    img = Image.fromarray(a.astype(np.uint8))\n",
    "    filen = \"result-\"+file+\".png\"\n",
    "    img.save(filen)"
   ]
  },
  {
   "cell_type": "code",
   "execution_count": 170,
   "id": "80c9510f-881c-4dc7-b32a-667d2981dce4",
   "metadata": {},
   "outputs": [
    {
     "data": {
      "text/plain": [
       "2453"
      ]
     },
     "execution_count": 170,
     "metadata": {},
     "output_type": "execute_result"
    }
   ],
   "source": [
    "xy"
   ]
  },
  {
   "cell_type": "code",
   "execution_count": 190,
   "id": "0ce27d54-f1fd-451f-bd68-a44684f05b32",
   "metadata": {},
   "outputs": [],
   "source": [
    "for i,x in enumerate(a):\n",
    "    for j,y in enumerate(x):\n",
    "        if y !=0:\n",
    "            for it,xx in enumerate(sets):\n",
    "                if y in xx:\n",
    "                    a[i,j]= (it+1) * int(254/len(sets))\n",
    "                    break"
   ]
  },
  {
   "cell_type": "code",
   "execution_count": 194,
   "id": "f8f3cc1a-25be-4826-9447-f22db2478f03",
   "metadata": {},
   "outputs": [],
   "source": [
    "img = Image.fromarray(a.astype(np.uint8))\n",
    "img.save(\"result.bmp\")"
   ]
  }
 ],
 "metadata": {
  "kernelspec": {
   "display_name": "Python 3 (ipykernel)",
   "language": "python",
   "name": "python3"
  },
  "language_info": {
   "codemirror_mode": {
    "name": "ipython",
    "version": 3
   },
   "file_extension": ".py",
   "mimetype": "text/x-python",
   "name": "python",
   "nbconvert_exporter": "python",
   "pygments_lexer": "ipython3",
   "version": "3.9.12"
  }
 },
 "nbformat": 4,
 "nbformat_minor": 5
}
